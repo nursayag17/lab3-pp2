{
 "cells": [
  {
   "cell_type": "code",
   "execution_count": 2,
   "metadata": {},
   "outputs": [
    {
     "name": "stdout",
     "output_type": "stream",
     "text": [
      "HELLO WORLD\n"
     ]
    }
   ],
   "source": [
    "class StringManipulator:\n",
    "    def __init__(self):\n",
    "        self.string = \"\"\n",
    "\n",
    "    def getString(self, text):\n",
    "        self.string = text\n",
    "\n",
    "    def printString(self):\n",
    "        print(self.string.upper())\n",
    "\n",
    "\n",
    "obj = StringManipulator()\n",
    "obj.getString(\"hello world\")  \n",
    "obj.printString() \n"
   ]
  },
  {
   "cell_type": "code",
   "execution_count": 3,
   "metadata": {},
   "outputs": [
    {
     "name": "stdout",
     "output_type": "stream",
     "text": [
      "Площадь фигуры: 0\n",
      "Площадь квадрата: 25\n"
     ]
    }
   ],
   "source": [
    "class Shape:\n",
    "    def __init__(self):\n",
    "        self.area_value = 0\n",
    "\n",
    "    def area(self):\n",
    "        print(f\"Площадь фигуры: {self.area_value}\")\n",
    "\n",
    "class Square(Shape):\n",
    "    def __init__(self, length):\n",
    "        super().__init__()\n",
    "        self.length = length\n",
    "        self.area_value = length * length\n",
    "\n",
    "    def area(self):\n",
    "        print(f\"Площадь квадрата: {self.area_value}\")\n",
    "\n",
    "\n",
    "shape = Shape()\n",
    "shape.area()  \n",
    "\n",
    "square = Square(5)\n",
    "square.area()  \n"
   ]
  },
  {
   "cell_type": "code",
   "execution_count": 4,
   "metadata": {},
   "outputs": [
    {
     "name": "stdout",
     "output_type": "stream",
     "text": [
      "Площадь фигуры: 0\n",
      "Площадь прямоугольника: 24\n"
     ]
    }
   ],
   "source": [
    "class Shape:\n",
    "    def __init__(self):\n",
    "        self.area_value = 0\n",
    "\n",
    "    def area(self):\n",
    "        print(f\"Площадь фигуры: {self.area_value}\")\n",
    "\n",
    "class Rectangle(Shape):\n",
    "    def __init__(self, length, width):\n",
    "        super().__init__()\n",
    "        self.length = length\n",
    "        self.width = width\n",
    "        self.area_value = length * width\n",
    "\n",
    "    def area(self):\n",
    "        print(f\"Площадь прямоугольника: {self.area_value}\")\n",
    "\n",
    "\n",
    "shape = Shape()\n",
    "shape.area()  \n",
    "\n",
    "rectangle = Rectangle(4, 6)\n",
    "rectangle.area()  \n"
   ]
  },
  {
   "cell_type": "code",
   "execution_count": 5,
   "metadata": {},
   "outputs": [
    {
     "name": "stdout",
     "output_type": "stream",
     "text": [
      "Point coordinates: (3, 4)\n",
      "Point coordinates: (6, 8)\n",
      "Distance: 5.0\n",
      "Point coordinates: (10, 15)\n"
     ]
    }
   ],
   "source": [
    "import math\n",
    "\n",
    "class Point:\n",
    "    def __init__(self, x, y):\n",
    "        self.x = x\n",
    "        self.y = y\n",
    "\n",
    "    def show(self):\n",
    "        print(f\"Point coordinates: ({self.x}, {self.y})\")\n",
    "\n",
    "    def move(self, new_x, new_y):\n",
    "        self.x = new_x\n",
    "        self.y = new_y\n",
    "\n",
    "    def dist(self, other_point):\n",
    "        return math.sqrt((self.x - other_point.x) ** 2 + (self.y - other_point.y) ** 2)\n",
    "\n",
    "\n",
    "p1 = Point(3, 4)\n",
    "p2 = Point(6, 8)\n",
    "\n",
    "p1.show()  \n",
    "p2.show()  \n",
    "\n",
    "print(\"Distance:\", p1.dist(p2)) \n",
    "\n",
    "p1.move(10, 15)\n",
    "p1.show()  \n"
   ]
  },
  {
   "cell_type": "code",
   "execution_count": 6,
   "metadata": {},
   "outputs": [
    {
     "name": "stdout",
     "output_type": "stream",
     "text": [
      "Владелец счёта: Нурсултан, Баланс: 1000\n",
      "777 добавлено на счёт. Новый баланс: 1777\n",
      "177 снято со счёта. Новый баланс: 1600\n",
      "Недостаточно средств! Доступный баланс: 1600\n",
      "Сумма снятия должна быть положительной!\n",
      "Владелец счёта: Нурсултан, Баланс: 1600\n"
     ]
    }
   ],
   "source": [
    "class Account:\n",
    "    def __init__(self, owner, balance=0):\n",
    "        self.owner = owner\n",
    "        self.balance = balance\n",
    "\n",
    "    def deposit(self, amount):\n",
    "        if amount > 0:\n",
    "            self.balance += amount\n",
    "            print(f\"{amount} добавлено на счёт. Новый баланс: {self.balance}\")\n",
    "        else:\n",
    "            print(\"Сумма депозита должна быть положительной!\")\n",
    "\n",
    "    def withdraw(self, amount):\n",
    "        if amount > self.balance:\n",
    "            print(f\"Недостаточно средств! Доступный баланс: {self.balance}\")\n",
    "        elif amount <= 0:\n",
    "            print(\"Сумма снятия должна быть положительной!\")\n",
    "        else:\n",
    "            self.balance -= amount\n",
    "            print(f\"{amount} снято со счёта. Новый баланс: {self.balance}\")\n",
    "\n",
    "    def __str__(self):\n",
    "        return f\"Владелец счёта: {self.owner}, Баланс: {self.balance}\"\n",
    "\n",
    "\n",
    "acc = Account(\"Нурсултан\", 1000)\n",
    "\n",
    "print(acc)  \n",
    "\n",
    "acc.deposit(777)  \n",
    "acc.withdraw(177)  \n",
    "acc.withdraw(20000) \n",
    "acc.withdraw(-2032)  \n",
    "\n",
    "print(acc)  \n"
   ]
  },
  {
   "cell_type": "code",
   "execution_count": 8,
   "metadata": {},
   "outputs": [
    {
     "name": "stdout",
     "output_type": "stream",
     "text": [
      "[2, 3, 5, 13, 17, 19, 23, 29, 431, 331]\n"
     ]
    }
   ],
   "source": [
    "\n",
    "\n",
    "def is_prime(n):\n",
    "    if n < 2:\n",
    "        return False\n",
    "    return all(n % i != 0 for i in range(2, int(n**0.5) + 1))\n",
    "\n",
    "numbers = [2, 3, 4, 5, 10, 13, 17, 19, 20, 23, 25, 29, 30,431,12,12,331]\n",
    "\n",
    "prime_numbers = list(filter(lambda x: is_prime(x), numbers))\n",
    "\n",
    "print(prime_numbers)  "
   ]
  }
 ],
 "metadata": {
  "kernelspec": {
   "display_name": "Python 3",
   "language": "python",
   "name": "python3"
  },
  "language_info": {
   "codemirror_mode": {
    "name": "ipython",
    "version": 3
   },
   "file_extension": ".py",
   "mimetype": "text/x-python",
   "name": "python",
   "nbconvert_exporter": "python",
   "pygments_lexer": "ipython3",
   "version": "3.13.1"
  }
 },
 "nbformat": 4,
 "nbformat_minor": 2
}
